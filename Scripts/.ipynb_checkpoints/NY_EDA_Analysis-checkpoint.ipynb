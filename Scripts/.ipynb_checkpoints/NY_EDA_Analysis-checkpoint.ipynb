{
 "cells": [
  {
   "cell_type": "markdown",
   "metadata": {},
   "source": [
    "# 1. Importing libraries"
   ]
  },
  {
   "cell_type": "code",
   "execution_count": 1,
   "metadata": {},
   "outputs": [],
   "source": [
    "import pandas as pd\n",
    "import matplotlib.pyplot as plt\n",
    "import seaborn as sns\n",
    "import numpy as np\n",
    "import re"
   ]
  },
  {
   "cell_type": "markdown",
   "metadata": {},
   "source": [
    "# 2. Loading and Exploring the NY database "
   ]
  },
  {
   "cell_type": "code",
   "execution_count": 2,
   "metadata": {},
   "outputs": [
    {
     "name": "stdout",
     "output_type": "stream",
     "text": [
      "C:\\Users\\W10\\Documents\\GitHub\\Messy_Data\n"
     ]
    }
   ],
   "source": [
    "cd .."
   ]
  },
  {
   "cell_type": "code",
   "execution_count": 3,
   "metadata": {},
   "outputs": [
    {
     "name": "stdout",
     "output_type": "stream",
     "text": [
      "C:\\Users\\W10\\Documents\\GitHub\\Messy_Data\\Data\n"
     ]
    }
   ],
   "source": [
    "cd Data"
   ]
  },
  {
   "cell_type": "code",
   "execution_count": 5,
   "metadata": {},
   "outputs": [],
   "source": [
    "#Load the dataframe\n",
    "dfNY = pd.read_csv('fulltimeNY.csv')"
   ]
  },
  {
   "cell_type": "code",
   "execution_count": 6,
   "metadata": {},
   "outputs": [
    {
     "data": {
      "text/html": [
       "<div>\n",
       "<style scoped>\n",
       "    .dataframe tbody tr th:only-of-type {\n",
       "        vertical-align: middle;\n",
       "    }\n",
       "\n",
       "    .dataframe tbody tr th {\n",
       "        vertical-align: top;\n",
       "    }\n",
       "\n",
       "    .dataframe thead th {\n",
       "        text-align: right;\n",
       "    }\n",
       "</style>\n",
       "<table border=\"1\" class=\"dataframe\">\n",
       "  <thead>\n",
       "    <tr style=\"text-align: right;\">\n",
       "      <th></th>\n",
       "      <th>position</th>\n",
       "      <th>company</th>\n",
       "      <th>description</th>\n",
       "      <th>numreview</th>\n",
       "      <th>location</th>\n",
       "    </tr>\n",
       "  </thead>\n",
       "  <tbody>\n",
       "    <tr>\n",
       "      <th>0</th>\n",
       "      <td>Data Scientist—Research (Ref # EXEC/RD_DAT_NYC...</td>\n",
       "      <td>New York State Office of the Attorney General ...</td>\n",
       "      <td>&lt;span id=\"job_summary\" class=\"summary\"&gt;&lt;p&gt;&lt;b&gt;E...</td>\n",
       "      <td>NaN</td>\n",
       "      <td>New York, NY</td>\n",
       "    </tr>\n",
       "    <tr>\n",
       "      <th>1</th>\n",
       "      <td>Data Scientist/Pre Sales Engineer</td>\n",
       "      <td>Celonis</td>\n",
       "      <td>&lt;span id=\"job_summary\" class=\"summary\"&gt;&lt;p&gt;Celo...</td>\n",
       "      <td>NaN</td>\n",
       "      <td>New York, NY</td>\n",
       "    </tr>\n",
       "    <tr>\n",
       "      <th>2</th>\n",
       "      <td>Data Analyst/Research Scientist</td>\n",
       "      <td>Columbia University Medical Center</td>\n",
       "      <td>&lt;span id=\"job_summary\" class=\"summary\"&gt;&lt;p&gt;We a...</td>\n",
       "      <td>217 reviews</td>\n",
       "      <td>New York, NY 10032</td>\n",
       "    </tr>\n",
       "    <tr>\n",
       "      <th>3</th>\n",
       "      <td>Data Scientist</td>\n",
       "      <td>fractalanalytics</td>\n",
       "      <td>&lt;span id=\"job_summary\" class=\"summary\"&gt;&lt;div&gt;&lt;p...</td>\n",
       "      <td>NaN</td>\n",
       "      <td>Jersey City, NJ</td>\n",
       "    </tr>\n",
       "    <tr>\n",
       "      <th>4</th>\n",
       "      <td>Data Scientist</td>\n",
       "      <td>Blackboard Insurance</td>\n",
       "      <td>&lt;span id=\"job_summary\" class=\"summary\"&gt;&lt;div&gt;&lt;p...</td>\n",
       "      <td>NaN</td>\n",
       "      <td>New York, NY</td>\n",
       "    </tr>\n",
       "  </tbody>\n",
       "</table>\n",
       "</div>"
      ],
      "text/plain": [
       "                                            position  \\\n",
       "0  Data Scientist—Research (Ref # EXEC/RD_DAT_NYC...   \n",
       "1                  Data Scientist/Pre Sales Engineer   \n",
       "2                    Data Analyst/Research Scientist   \n",
       "3                                     Data Scientist   \n",
       "4                                     Data Scientist   \n",
       "\n",
       "                                             company  \\\n",
       "0  New York State Office of the Attorney General ...   \n",
       "1                                            Celonis   \n",
       "2                 Columbia University Medical Center   \n",
       "3                                   fractalanalytics   \n",
       "4                               Blackboard Insurance   \n",
       "\n",
       "                                         description    numreview  \\\n",
       "0  <span id=\"job_summary\" class=\"summary\"><p><b>E...          NaN   \n",
       "1  <span id=\"job_summary\" class=\"summary\"><p>Celo...          NaN   \n",
       "2  <span id=\"job_summary\" class=\"summary\"><p>We a...  217 reviews   \n",
       "3  <span id=\"job_summary\" class=\"summary\"><div><p...          NaN   \n",
       "4  <span id=\"job_summary\" class=\"summary\"><div><p...          NaN   \n",
       "\n",
       "             location  \n",
       "0        New York, NY  \n",
       "1        New York, NY  \n",
       "2  New York, NY 10032  \n",
       "3     Jersey City, NJ  \n",
       "4        New York, NY  "
      ]
     },
     "execution_count": 6,
     "metadata": {},
     "output_type": "execute_result"
    }
   ],
   "source": [
    "dfNY.head()"
   ]
  },
  {
   "cell_type": "code",
   "execution_count": 12,
   "metadata": {},
   "outputs": [
    {
     "name": "stdout",
     "output_type": "stream",
     "text": [
      "<class 'pandas.core.frame.DataFrame'>\n",
      "RangeIndex: 986 entries, 0 to 985\n",
      "Data columns (total 5 columns):\n",
      " #   Column       Non-Null Count  Dtype \n",
      "---  ------       --------------  ----- \n",
      " 0   position     986 non-null    object\n",
      " 1   company      986 non-null    object\n",
      " 2   description  986 non-null    object\n",
      " 3   numreview    755 non-null    object\n",
      " 4   location     986 non-null    object\n",
      "dtypes: object(5)\n",
      "memory usage: 38.6+ KB\n"
     ]
    }
   ],
   "source": [
    "dfNY.info()"
   ]
  },
  {
   "cell_type": "code",
   "execution_count": 8,
   "metadata": {},
   "outputs": [
    {
     "data": {
      "text/html": [
       "<div>\n",
       "<style scoped>\n",
       "    .dataframe tbody tr th:only-of-type {\n",
       "        vertical-align: middle;\n",
       "    }\n",
       "\n",
       "    .dataframe tbody tr th {\n",
       "        vertical-align: top;\n",
       "    }\n",
       "\n",
       "    .dataframe thead th {\n",
       "        text-align: right;\n",
       "    }\n",
       "</style>\n",
       "<table border=\"1\" class=\"dataframe\">\n",
       "  <thead>\n",
       "    <tr style=\"text-align: right;\">\n",
       "      <th></th>\n",
       "      <th>position</th>\n",
       "      <th>company</th>\n",
       "      <th>description</th>\n",
       "      <th>numreview</th>\n",
       "      <th>location</th>\n",
       "    </tr>\n",
       "  </thead>\n",
       "  <tbody>\n",
       "    <tr>\n",
       "      <th>count</th>\n",
       "      <td>986</td>\n",
       "      <td>986</td>\n",
       "      <td>986</td>\n",
       "      <td>755</td>\n",
       "      <td>986</td>\n",
       "    </tr>\n",
       "    <tr>\n",
       "      <th>unique</th>\n",
       "      <td>731</td>\n",
       "      <td>501</td>\n",
       "      <td>977</td>\n",
       "      <td>190</td>\n",
       "      <td>115</td>\n",
       "    </tr>\n",
       "    <tr>\n",
       "      <th>top</th>\n",
       "      <td>Data Scientist</td>\n",
       "      <td>NYU Langone Health</td>\n",
       "      <td>&lt;span id=\"job_summary\" class=\"summary\"&gt;&lt;div&gt;&lt;p...</td>\n",
       "      <td>705 reviews</td>\n",
       "      <td>New York, NY</td>\n",
       "    </tr>\n",
       "    <tr>\n",
       "      <th>freq</th>\n",
       "      <td>103</td>\n",
       "      <td>77</td>\n",
       "      <td>2</td>\n",
       "      <td>76</td>\n",
       "      <td>503</td>\n",
       "    </tr>\n",
       "  </tbody>\n",
       "</table>\n",
       "</div>"
      ],
      "text/plain": [
       "              position             company  \\\n",
       "count              986                 986   \n",
       "unique             731                 501   \n",
       "top     Data Scientist  NYU Langone Health   \n",
       "freq               103                  77   \n",
       "\n",
       "                                              description    numreview  \\\n",
       "count                                                 986          755   \n",
       "unique                                                977          190   \n",
       "top     <span id=\"job_summary\" class=\"summary\"><div><p...  705 reviews   \n",
       "freq                                                    2           76   \n",
       "\n",
       "            location  \n",
       "count            986  \n",
       "unique           115  \n",
       "top     New York, NY  \n",
       "freq             503  "
      ]
     },
     "execution_count": 8,
     "metadata": {},
     "output_type": "execute_result"
    }
   ],
   "source": [
    "dfNY.describe()"
   ]
  },
  {
   "cell_type": "code",
   "execution_count": 13,
   "metadata": {},
   "outputs": [
    {
     "data": {
      "text/plain": [
       "0"
      ]
     },
     "execution_count": 13,
     "metadata": {},
     "output_type": "execute_result"
    }
   ],
   "source": [
    "dfNY.duplicated().sum()\n",
    "#There are no duplicates"
   ]
  },
  {
   "cell_type": "code",
   "execution_count": null,
   "metadata": {},
   "outputs": [],
   "source": []
  },
  {
   "cell_type": "code",
   "execution_count": null,
   "metadata": {},
   "outputs": [],
   "source": []
  },
  {
   "cell_type": "code",
   "execution_count": null,
   "metadata": {},
   "outputs": [],
   "source": []
  },
  {
   "cell_type": "code",
   "execution_count": null,
   "metadata": {},
   "outputs": [],
   "source": []
  }
 ],
 "metadata": {
  "kernelspec": {
   "display_name": "Python 3",
   "language": "python",
   "name": "python3"
  },
  "language_info": {
   "codemirror_mode": {
    "name": "ipython",
    "version": 3
   },
   "file_extension": ".py",
   "mimetype": "text/x-python",
   "name": "python",
   "nbconvert_exporter": "python",
   "pygments_lexer": "ipython3",
   "version": "3.8.5"
  }
 },
 "nbformat": 4,
 "nbformat_minor": 4
}
