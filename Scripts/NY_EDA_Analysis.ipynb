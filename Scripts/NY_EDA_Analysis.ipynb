{
 "cells": [
  {
   "cell_type": "markdown",
   "metadata": {},
   "source": [
    "# 1. Importing libraries"
   ]
  },
  {
   "cell_type": "code",
   "execution_count": 1,
   "metadata": {},
   "outputs": [],
   "source": [
    "import pandas as pd\n",
    "import matplotlib.pyplot as plt\n",
    "import seaborn as sns\n",
    "import numpy as np\n",
    "import re"
   ]
  },
  {
   "cell_type": "markdown",
   "metadata": {},
   "source": [
    "# 2. Loading and Exploring the NY database "
   ]
  },
  {
   "cell_type": "code",
   "execution_count": 2,
   "metadata": {},
   "outputs": [
    {
     "name": "stdout",
     "output_type": "stream",
     "text": [
      "C:\\Users\\W10\\Documents\\GitHub\\Messy_Data\n"
     ]
    }
   ],
   "source": [
    "cd .."
   ]
  },
  {
   "cell_type": "code",
   "execution_count": 3,
   "metadata": {},
   "outputs": [
    {
     "name": "stdout",
     "output_type": "stream",
     "text": [
      "C:\\Users\\W10\\Documents\\GitHub\\Messy_Data\\Data\n"
     ]
    }
   ],
   "source": [
    "cd Data"
   ]
  },
  {
   "cell_type": "code",
   "execution_count": 6,
   "metadata": {},
   "outputs": [],
   "source": [
    "#Load the dataframe\n",
    "dfNY = pd.read_csv('fulltimeNY.csv')"
   ]
  },
  {
   "cell_type": "code",
   "execution_count": 7,
   "metadata": {},
   "outputs": [
    {
     "data": {
      "text/html": [
       "<div>\n",
       "<style scoped>\n",
       "    .dataframe tbody tr th:only-of-type {\n",
       "        vertical-align: middle;\n",
       "    }\n",
       "\n",
       "    .dataframe tbody tr th {\n",
       "        vertical-align: top;\n",
       "    }\n",
       "\n",
       "    .dataframe thead th {\n",
       "        text-align: right;\n",
       "    }\n",
       "</style>\n",
       "<table border=\"1\" class=\"dataframe\">\n",
       "  <thead>\n",
       "    <tr style=\"text-align: right;\">\n",
       "      <th></th>\n",
       "      <th>Unnamed: 0</th>\n",
       "      <th>position</th>\n",
       "      <th>company</th>\n",
       "      <th>description</th>\n",
       "      <th>numreview</th>\n",
       "      <th>location</th>\n",
       "      <th>data_scientist</th>\n",
       "      <th>data_analyst</th>\n",
       "      <th>data_engineer</th>\n",
       "    </tr>\n",
       "  </thead>\n",
       "  <tbody>\n",
       "    <tr>\n",
       "      <th>0</th>\n",
       "      <td>0</td>\n",
       "      <td>data_scientistâ€”research_(ref_#_exec/rd_dat_n...</td>\n",
       "      <td>New York State Office of the Attorney General ...</td>\n",
       "      <td>&lt;span id=\"job_summary\" class=\"summary\"&gt;&lt;p&gt;&lt;b&gt;E...</td>\n",
       "      <td>NaN</td>\n",
       "      <td>New York, NY</td>\n",
       "      <td>1</td>\n",
       "      <td>0</td>\n",
       "      <td>0</td>\n",
       "    </tr>\n",
       "    <tr>\n",
       "      <th>1</th>\n",
       "      <td>1</td>\n",
       "      <td>data_scientist/pre_sales_engineer</td>\n",
       "      <td>Celonis</td>\n",
       "      <td>&lt;span id=\"job_summary\" class=\"summary\"&gt;&lt;p&gt;Celo...</td>\n",
       "      <td>NaN</td>\n",
       "      <td>New York, NY</td>\n",
       "      <td>1</td>\n",
       "      <td>0</td>\n",
       "      <td>0</td>\n",
       "    </tr>\n",
       "    <tr>\n",
       "      <th>2</th>\n",
       "      <td>2</td>\n",
       "      <td>data_analyst/research_scientist</td>\n",
       "      <td>Columbia University Medical Center</td>\n",
       "      <td>&lt;span id=\"job_summary\" class=\"summary\"&gt;&lt;p&gt;We a...</td>\n",
       "      <td>217 reviews</td>\n",
       "      <td>New York, NY 10032</td>\n",
       "      <td>0</td>\n",
       "      <td>1</td>\n",
       "      <td>0</td>\n",
       "    </tr>\n",
       "    <tr>\n",
       "      <th>3</th>\n",
       "      <td>3</td>\n",
       "      <td>data_scientist</td>\n",
       "      <td>fractalanalytics</td>\n",
       "      <td>&lt;span id=\"job_summary\" class=\"summary\"&gt;&lt;div&gt;&lt;p...</td>\n",
       "      <td>NaN</td>\n",
       "      <td>Jersey City, NJ</td>\n",
       "      <td>1</td>\n",
       "      <td>0</td>\n",
       "      <td>0</td>\n",
       "    </tr>\n",
       "    <tr>\n",
       "      <th>4</th>\n",
       "      <td>4</td>\n",
       "      <td>data_scientist</td>\n",
       "      <td>Blackboard Insurance</td>\n",
       "      <td>&lt;span id=\"job_summary\" class=\"summary\"&gt;&lt;div&gt;&lt;p...</td>\n",
       "      <td>NaN</td>\n",
       "      <td>New York, NY</td>\n",
       "      <td>1</td>\n",
       "      <td>0</td>\n",
       "      <td>0</td>\n",
       "    </tr>\n",
       "  </tbody>\n",
       "</table>\n",
       "</div>"
      ],
      "text/plain": [
       "   Unnamed: 0                                           position  \\\n",
       "0           0  data_scientistâ€”research_(ref_#_exec/rd_dat_n...   \n",
       "1           1                  data_scientist/pre_sales_engineer   \n",
       "2           2                    data_analyst/research_scientist   \n",
       "3           3                                     data_scientist   \n",
       "4           4                                     data_scientist   \n",
       "\n",
       "                                             company  \\\n",
       "0  New York State Office of the Attorney General ...   \n",
       "1                                            Celonis   \n",
       "2                 Columbia University Medical Center   \n",
       "3                                   fractalanalytics   \n",
       "4                               Blackboard Insurance   \n",
       "\n",
       "                                         description    numreview  \\\n",
       "0  <span id=\"job_summary\" class=\"summary\"><p><b>E...          NaN   \n",
       "1  <span id=\"job_summary\" class=\"summary\"><p>Celo...          NaN   \n",
       "2  <span id=\"job_summary\" class=\"summary\"><p>We a...  217 reviews   \n",
       "3  <span id=\"job_summary\" class=\"summary\"><div><p...          NaN   \n",
       "4  <span id=\"job_summary\" class=\"summary\"><div><p...          NaN   \n",
       "\n",
       "             location  data_scientist  data_analyst  data_engineer  \n",
       "0        New York, NY               1             0              0  \n",
       "1        New York, NY               1             0              0  \n",
       "2  New York, NY 10032               0             1              0  \n",
       "3     Jersey City, NJ               1             0              0  \n",
       "4        New York, NY               1             0              0  "
      ]
     },
     "execution_count": 7,
     "metadata": {},
     "output_type": "execute_result"
    }
   ],
   "source": [
    "dfNY.head()"
   ]
  },
  {
   "cell_type": "code",
   "execution_count": null,
   "metadata": {},
   "outputs": [],
   "source": [
    "df1.head()"
   ]
  },
  {
   "cell_type": "code",
   "execution_count": null,
   "metadata": {},
   "outputs": [],
   "source": []
  },
  {
   "cell_type": "code",
   "execution_count": null,
   "metadata": {},
   "outputs": [],
   "source": []
  },
  {
   "cell_type": "code",
   "execution_count": null,
   "metadata": {},
   "outputs": [],
   "source": []
  },
  {
   "cell_type": "code",
   "execution_count": null,
   "metadata": {},
   "outputs": [],
   "source": []
  },
  {
   "cell_type": "code",
   "execution_count": null,
   "metadata": {},
   "outputs": [],
   "source": []
  },
  {
   "cell_type": "code",
   "execution_count": null,
   "metadata": {},
   "outputs": [],
   "source": []
  }
 ],
 "metadata": {
  "kernelspec": {
   "display_name": "Python 3",
   "language": "python",
   "name": "python3"
  },
  "language_info": {
   "codemirror_mode": {
    "name": "ipython",
    "version": 3
   },
   "file_extension": ".py",
   "mimetype": "text/x-python",
   "name": "python",
   "nbconvert_exporter": "python",
   "pygments_lexer": "ipython3",
   "version": "3.8.5"
  }
 },
 "nbformat": 4,
 "nbformat_minor": 4
}
